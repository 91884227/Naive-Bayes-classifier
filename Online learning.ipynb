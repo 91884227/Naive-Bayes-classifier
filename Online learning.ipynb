{
 "cells": [
  {
   "cell_type": "code",
   "execution_count": 42,
   "metadata": {},
   "outputs": [],
   "source": [
    "import numpy as np\n",
    "import pandas as pd\n",
    "from scipy.stats import binom"
   ]
  },
  {
   "cell_type": "code",
   "execution_count": 72,
   "metadata": {},
   "outputs": [],
   "source": [
    "class Online_Learn():\n",
    "    def __init__(self):\n",
    "        self.alpha, self.beta = 0, 0\n",
    "        self.count_num = 0\n",
    "        self.string = None\n",
    "        self.likelyhood = None\n",
    "        self.old_alpha, self.old_beta = None, None\n",
    "        \n",
    "    def update(self, str_):\n",
    "        self.string = str_\n",
    "        one_count = len(str_.replace(\"1\", \"\"))\n",
    "        zero_count = len(str_) - one_count\n",
    "        self.old_alpha, self.old_beta = self.alpha, self.beta\n",
    "        self.alpha = self.alpha + zero_count\n",
    "        self.beta = self.beta + one_count\n",
    "        self.likelyhood = binom.pmf(one_count, \n",
    "                                    (one_count+zero_count), \n",
    "                                    one_count/(one_count+zero_count))\n",
    "        \n",
    "    def status(self):\n",
    "        self.count_num = self.count_num + 1\n",
    "        print(\"case %d: %s\" % (self.count_num, self.string))\n",
    "        print(\"Likelyhood: %.6f\" % (self.likelyhood))\n",
    "        print(\"Beta prior: a = %d b = %d\" % \n",
    "              (self.old_alpha, self.old_beta))\n",
    "        print(\"Beta posterior: a = %d b = %d\\n\" % \n",
    "              (self.alpha, self.beta))"
   ]
  },
  {
   "cell_type": "code",
   "execution_count": 73,
   "metadata": {},
   "outputs": [],
   "source": [
    "test = Online_Learn()"
   ]
  },
  {
   "cell_type": "code",
   "execution_count": 74,
   "metadata": {},
   "outputs": [
    {
     "name": "stdout",
     "output_type": "stream",
     "text": [
      "case 1: 0101010101001011010101\n",
      "Likelyhood: 0.168188\n",
      "Beta prior: a = 0 b = 0\n",
      "Beta posterior: a = 11 b = 11\n",
      "\n",
      "case 2: 0110101\n",
      "Likelyhood: 0.293755\n",
      "Beta prior: a = 11 b = 11\n",
      "Beta posterior: a = 15 b = 14\n",
      "\n",
      "case 3: 010110101101\n",
      "Likelyhood: 0.228605\n",
      "Beta prior: a = 15 b = 14\n",
      "Beta posterior: a = 22 b = 19\n",
      "\n",
      "case 4: 0101101011101011010\n",
      "Likelyhood: 0.182869\n",
      "Beta prior: a = 22 b = 19\n",
      "Beta posterior: a = 33 b = 27\n",
      "\n",
      "case 5: 111101100011110\n",
      "Likelyhood: 0.214307\n",
      "Beta prior: a = 33 b = 27\n",
      "Beta posterior: a = 43 b = 32\n",
      "\n",
      "case 6: 101110111000110\n",
      "Likelyhood: 0.206598\n",
      "Beta prior: a = 43 b = 32\n",
      "Beta posterior: a = 52 b = 38\n",
      "\n",
      "case 7: 1010010111\n",
      "Likelyhood: 0.250823\n",
      "Beta prior: a = 52 b = 38\n",
      "Beta posterior: a = 58 b = 42\n",
      "\n",
      "case 8: 11101110110\n",
      "Likelyhood: 0.261968\n",
      "Beta prior: a = 58 b = 42\n",
      "Beta posterior: a = 66 b = 45\n",
      "\n",
      "case 9: 01000111101\n",
      "Likelyhood: 0.236091\n",
      "Beta prior: a = 66 b = 45\n",
      "Beta posterior: a = 72 b = 50\n",
      "\n",
      "case 10: 110100111\n",
      "Likelyhood: 0.273129\n",
      "Beta prior: a = 72 b = 50\n",
      "Beta posterior: a = 78 b = 53\n",
      "\n",
      "case 11: 01101010111\n",
      "Likelyhood: 0.243849\n",
      "Beta prior: a = 78 b = 53\n",
      "Beta posterior: a = 85 b = 57\n",
      "\n"
     ]
    }
   ],
   "source": [
    "for i in pd.read_csv(\"test.txt\", header=None)[0]:\n",
    "    test.update(i)\n",
    "    test.status()"
   ]
  },
  {
   "cell_type": "code",
   "execution_count": null,
   "metadata": {},
   "outputs": [],
   "source": []
  }
 ],
 "metadata": {
  "kernelspec": {
   "display_name": "Python 3",
   "language": "python",
   "name": "python3"
  },
  "language_info": {
   "codemirror_mode": {
    "name": "ipython",
    "version": 3
   },
   "file_extension": ".py",
   "mimetype": "text/x-python",
   "name": "python",
   "nbconvert_exporter": "python",
   "pygments_lexer": "ipython3",
   "version": "3.6.4"
  }
 },
 "nbformat": 4,
 "nbformat_minor": 2
}
